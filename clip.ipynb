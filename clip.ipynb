{
 "cells": [
  {
   "cell_type": "code",
   "execution_count": 3,
   "metadata": {},
   "outputs": [],
   "source": [
    "from transformers import CLIPModel, CLIPProcessor\n",
    "import requests\n",
    "from PIL import Image"
   ]
  },
  {
   "cell_type": "code",
   "execution_count": 4,
   "metadata": {},
   "outputs": [],
   "source": [
    "model_name = \"laion/CLIP-ViT-H-14-laion2B-s32B-b79K\""
   ]
  },
  {
   "cell_type": "code",
   "execution_count": 5,
   "metadata": {},
   "outputs": [],
   "source": [
    "processor = CLIPProcessor.from_pretrained(model_name)\n",
    "model = CLIPModel.from_pretrained(model_name).to(\"cuda\")"
   ]
  },
  {
   "cell_type": "code",
   "execution_count": 6,
   "metadata": {},
   "outputs": [],
   "source": [
    "url = \"http://images.cocodataset.org/val2017/000000039769.jpg\"\n",
    "image = Image.open(requests.get(url, stream=True).raw)"
   ]
  },
  {
   "cell_type": "code",
   "execution_count": 5,
   "metadata": {},
   "outputs": [],
   "source": [
    "inputs = processor(images=image, return_tensors=\"pt\").to(\"cuda\")"
   ]
  },
  {
   "cell_type": "code",
   "execution_count": 9,
   "metadata": {},
   "outputs": [],
   "source": [
    "output = model.get_image_features(**inputs)"
   ]
  },
  {
   "cell_type": "code",
   "execution_count": 13,
   "metadata": {},
   "outputs": [
    {
     "data": {
      "text/plain": [
       "torch.float32"
      ]
     },
     "execution_count": 13,
     "metadata": {},
     "output_type": "execute_result"
    }
   ],
   "source": [
    "output.dtype"
   ]
  },
  {
   "cell_type": "code",
   "execution_count": 1,
   "metadata": {},
   "outputs": [
    {
     "name": "stderr",
     "output_type": "stream",
     "text": [
      "/home/siddhesh1793/anaconda3/envs/clip_classifier/lib/python3.9/site-packages/tqdm/auto.py:22: TqdmWarning: IProgress not found. Please update jupyter and ipywidgets. See https://ipywidgets.readthedocs.io/en/stable/user_install.html\n",
      "  from .autonotebook import tqdm as notebook_tqdm\n",
      "Found cached dataset imagenet-1k (/home/siddhesh1793/.cache/huggingface/datasets/imagenet-1k/default/1.0.0/a1e9bfc56c3a7350165007d1176b15e9128fcaf9ab972147840529aed3ae52bc)\n",
      "100%|██████████| 3/3 [00:00<00:00, 107.94it/s]\n"
     ]
    }
   ],
   "source": [
    "import datasets\n",
    "from datasets import load_dataset\n",
    "\n",
    "dataset = load_dataset(\"imagenet-1k\")"
   ]
  },
  {
   "cell_type": "code",
   "execution_count": 2,
   "metadata": {},
   "outputs": [
    {
     "data": {
      "text/plain": [
       "{'image': tensor([[[142, 143, 148],\n",
       "          [142, 143, 148],\n",
       "          [141, 142, 147],\n",
       "          ...,\n",
       "          [160, 170, 172],\n",
       "          [160, 170, 172],\n",
       "          [161, 171, 173]],\n",
       " \n",
       "         [[140, 141, 146],\n",
       "          [141, 142, 147],\n",
       "          [141, 142, 147],\n",
       "          ...,\n",
       "          [161, 171, 173],\n",
       "          [160, 170, 172],\n",
       "          [160, 170, 172]],\n",
       " \n",
       "         [[139, 140, 145],\n",
       "          [140, 141, 146],\n",
       "          [141, 142, 147],\n",
       "          ...,\n",
       "          [162, 170, 173],\n",
       "          [162, 170, 173],\n",
       "          [161, 169, 172]],\n",
       " \n",
       "         ...,\n",
       " \n",
       "         [[192, 193, 197],\n",
       "          [192, 193, 197],\n",
       "          [191, 195, 198],\n",
       "          ...,\n",
       "          [172, 176, 177],\n",
       "          [172, 176, 177],\n",
       "          [173, 174, 178]],\n",
       " \n",
       "         [[190, 191, 195],\n",
       "          [191, 192, 196],\n",
       "          [192, 193, 197],\n",
       "          ...,\n",
       "          [172, 176, 177],\n",
       "          [172, 176, 177],\n",
       "          [173, 174, 178]],\n",
       " \n",
       "         [[190, 189, 194],\n",
       "          [191, 190, 195],\n",
       "          [192, 191, 196],\n",
       "          ...,\n",
       "          [172, 176, 177],\n",
       "          [171, 175, 176],\n",
       "          [173, 174, 178]]], dtype=torch.uint8),\n",
       " 'label': tensor(726)}"
      ]
     },
     "execution_count": 2,
     "metadata": {},
     "output_type": "execute_result"
    }
   ],
   "source": [
    "dataset.set_format('torch')\n",
    "dataset['train'][0]"
   ]
  },
  {
   "cell_type": "code",
   "execution_count": 23,
   "metadata": {},
   "outputs": [],
   "source": [
    "num_dims = 1024\n",
    "bytes_per_embed = 4 * num_dims\n",
    "total_bytes = dataset[\"validation\"].num_rows * bytes_per_embed"
   ]
  },
  {
   "cell_type": "code",
   "execution_count": 24,
   "metadata": {},
   "outputs": [
    {
     "data": {
      "text/plain": [
       "204800000"
      ]
     },
     "execution_count": 24,
     "metadata": {},
     "output_type": "execute_result"
    }
   ],
   "source": [
    "total_bytes"
   ]
  },
  {
   "cell_type": "code",
   "execution_count": 11,
   "metadata": {},
   "outputs": [
    {
     "ename": "SyntaxError",
     "evalue": "invalid syntax (2223083588.py, line 1)",
     "output_type": "error",
     "traceback": [
      "\u001b[0;36m  Input \u001b[0;32mIn [11]\u001b[0;36m\u001b[0m\n\u001b[0;31m    processor()??\u001b[0m\n\u001b[0m               ^\u001b[0m\n\u001b[0;31mSyntaxError\u001b[0m\u001b[0;31m:\u001b[0m invalid syntax\n"
     ]
    }
   ],
   "source": [
    "processor()??"
   ]
  },
  {
   "cell_type": "code",
   "execution_count": null,
   "metadata": {},
   "outputs": [],
   "source": []
  }
 ],
 "metadata": {
  "kernelspec": {
   "display_name": "Python 3 (ipykernel)",
   "language": "python",
   "name": "python3"
  },
  "language_info": {
   "codemirror_mode": {
    "name": "ipython",
    "version": 3
   },
   "file_extension": ".py",
   "mimetype": "text/x-python",
   "name": "python",
   "nbconvert_exporter": "python",
   "pygments_lexer": "ipython3",
   "version": "3.9.13"
  },
  "vscode": {
   "interpreter": {
    "hash": "662a676bd14e63d833415312f5b884df48fa63ef3f197b360d4f306d87ea26d9"
   }
  }
 },
 "nbformat": 4,
 "nbformat_minor": 2
}
